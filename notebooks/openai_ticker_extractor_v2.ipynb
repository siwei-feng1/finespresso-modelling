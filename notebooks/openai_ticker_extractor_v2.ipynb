{
  "nbformat": 4,
  "nbformat_minor": 0,
  "metadata": {
    "colab": {
      "provenance": []
    },
    "kernelspec": {
      "name": "python3",
      "display_name": "Python 3"
    },
    "language_info": {
      "name": "python"
    }
  },
  "cells": [
    {
      "cell_type": "code",
      "source": [
        "!pip install OpenAI python-dotenv"
      ],
      "metadata": {
        "colab": {
          "base_uri": "https://localhost:8080/"
        },
        "id": "se3P5GnlX9ew",
        "outputId": "175e4581-0c47-454a-e663-149659922db7"
      },
      "execution_count": null,
      "outputs": [
        {
          "output_type": "stream",
          "name": "stdout",
          "text": [
            "Requirement already satisfied: OpenAI in /usr/local/lib/python3.11/dist-packages (1.91.0)\n",
            "Collecting python-dotenv\n",
            "  Downloading python_dotenv-1.1.1-py3-none-any.whl.metadata (24 kB)\n",
            "Requirement already satisfied: anyio<5,>=3.5.0 in /usr/local/lib/python3.11/dist-packages (from OpenAI) (4.9.0)\n",
            "Requirement already satisfied: distro<2,>=1.7.0 in /usr/local/lib/python3.11/dist-packages (from OpenAI) (1.9.0)\n",
            "Requirement already satisfied: httpx<1,>=0.23.0 in /usr/local/lib/python3.11/dist-packages (from OpenAI) (0.28.1)\n",
            "Requirement already satisfied: jiter<1,>=0.4.0 in /usr/local/lib/python3.11/dist-packages (from OpenAI) (0.10.0)\n",
            "Requirement already satisfied: pydantic<3,>=1.9.0 in /usr/local/lib/python3.11/dist-packages (from OpenAI) (2.11.7)\n",
            "Requirement already satisfied: sniffio in /usr/local/lib/python3.11/dist-packages (from OpenAI) (1.3.1)\n",
            "Requirement already satisfied: tqdm>4 in /usr/local/lib/python3.11/dist-packages (from OpenAI) (4.67.1)\n",
            "Requirement already satisfied: typing-extensions<5,>=4.11 in /usr/local/lib/python3.11/dist-packages (from OpenAI) (4.14.0)\n",
            "Requirement already satisfied: idna>=2.8 in /usr/local/lib/python3.11/dist-packages (from anyio<5,>=3.5.0->OpenAI) (3.10)\n",
            "Requirement already satisfied: certifi in /usr/local/lib/python3.11/dist-packages (from httpx<1,>=0.23.0->OpenAI) (2025.6.15)\n",
            "Requirement already satisfied: httpcore==1.* in /usr/local/lib/python3.11/dist-packages (from httpx<1,>=0.23.0->OpenAI) (1.0.9)\n",
            "Requirement already satisfied: h11>=0.16 in /usr/local/lib/python3.11/dist-packages (from httpcore==1.*->httpx<1,>=0.23.0->OpenAI) (0.16.0)\n",
            "Requirement already satisfied: annotated-types>=0.6.0 in /usr/local/lib/python3.11/dist-packages (from pydantic<3,>=1.9.0->OpenAI) (0.7.0)\n",
            "Requirement already satisfied: pydantic-core==2.33.2 in /usr/local/lib/python3.11/dist-packages (from pydantic<3,>=1.9.0->OpenAI) (2.33.2)\n",
            "Requirement already satisfied: typing-inspection>=0.4.0 in /usr/local/lib/python3.11/dist-packages (from pydantic<3,>=1.9.0->OpenAI) (0.4.1)\n",
            "Downloading python_dotenv-1.1.1-py3-none-any.whl (20 kB)\n",
            "Installing collected packages: python-dotenv\n",
            "Successfully installed python-dotenv-1.1.1\n"
          ]
        }
      ]
    },
    {
      "cell_type": "code",
      "execution_count": null,
      "metadata": {
        "id": "yPNhhIszWFOr"
      },
      "outputs": [],
      "source": [
        "import pandas as pd\n",
        "import openai\n",
        "import json\n",
        "import time\n",
        "import re\n",
        "import os\n",
        "from dotenv import load_dotenv\n",
        "\n",
        "\n",
        "def extract_tickers_from_news(df, api_key, title_col='title', content_col='summary'):\n",
        "    \"\"\"\n",
        "    Extract Yahoo Finance ticker symbols and company names from news dataframe using OpenAI.\n",
        "\n",
        "    Parameters:\n",
        "    df (pd.DataFrame): News dataframe\n",
        "    api_key (str): OpenAI API key\n",
        "    title_col (str): Column name for titles\n",
        "    content_col (str): Column name for content/summary\n",
        "\n",
        "    Returns:\n",
        "    pd.DataFrame: Original dataframe with 'tickers' and 'companies' columns added\n",
        "    \"\"\"\n",
        "\n",
        "    # Initialize OpenAI client\n",
        "    client = openai.OpenAI(api_key=\"\")\n",
        "\n",
        "    # Copy dataframe\n",
        "    result_df = df.copy()\n",
        "    ticker_lists = []\n",
        "    company_lists = []\n",
        "\n",
        "    print(f\"Processing {len(df)} news items...\")\n",
        "\n",
        "    for i, row in df.iterrows():\n",
        "        # Combine title and content\n",
        "        title = str(row.get(title_col, ''))\n",
        "        content = str(row.get(content_col, ''))\n",
        "        text = f\"{title} {content}\".strip()\n",
        "\n",
        "        # Skip if no text\n",
        "        if not text:\n",
        "            ticker_lists.append([])\n",
        "            company_lists.append([])\n",
        "            continue\n",
        "\n",
        "        try:\n",
        "            # Call OpenAI API\n",
        "            response = client.chat.completions.create(\n",
        "                model=\"gpt-3.5-turbo\",\n",
        "                messages=[\n",
        "                    {\n",
        "                        \"role\": \"system\",\n",
        "                        \"content\": \"Extract publicly traded companies from news text. Return JSON with 'tickers' and 'companies' arrays. Example: {\\\"tickers\\\": [\\\"AAPL\\\", \\\"MSFT\\\"], \\\"companies\\\": [\\\"Apple Inc\\\", \\\"Microsoft Corporation\\\"]}. If no companies found, return {\\\"tickers\\\": [], \\\"companies\\\": []}.\"\n",
        "                    },\n",
        "                    {\n",
        "                        \"role\": \"user\",\n",
        "                        \"content\": f\"Extract company tickers and names from this news text: {text[:1000]}\"  # Limit text length\n",
        "                    }\n",
        "                ],\n",
        "                max_tokens=100,\n",
        "                temperature=0\n",
        "            )\n",
        "\n",
        "            # Parse response\n",
        "            content = response.choices[0].message.content.strip()\n",
        "\n",
        "            try:\n",
        "                # Try to parse as JSON\n",
        "                result = json.loads(content)\n",
        "                if isinstance(result, dict) and 'tickers' in result and 'companies' in result:\n",
        "                    # Clean tickers and companies\n",
        "                    clean_tickers = [ticker.upper() for ticker in result['tickers'] if isinstance(ticker, str) and ticker.isalpha()]\n",
        "                    clean_companies = [company.strip() for company in result['companies'] if isinstance(company, str)]\n",
        "                    ticker_lists.append(clean_tickers)\n",
        "                    company_lists.append(clean_companies)\n",
        "                else:\n",
        "                    ticker_lists.append([])\n",
        "                    company_lists.append([])\n",
        "            except json.JSONDecodeError:\n",
        "                # Fallback: extract ticker-like patterns\n",
        "                ticker_pattern = r'\\b[A-Z]{1,5}\\b'\n",
        "                matches = re.findall(ticker_pattern, content)\n",
        "                ticker_lists.append(matches)\n",
        "                company_lists.append([])\n",
        "\n",
        "        except Exception as e:\n",
        "            print(f\"Error processing row {i}: {e}\")\n",
        "            ticker_lists.append([])\n",
        "            company_lists.append([])\n",
        "\n",
        "        # Progress update\n",
        "        if (i + 1) % 10 == 0:\n",
        "            print(f\"Processed {i + 1}/{len(df)} items\")\n",
        "\n",
        "        # Rate limiting\n",
        "        time.sleep(0.5)\n",
        "\n",
        "    # Add tickers and companies to dataframe\n",
        "    result_df['tickers'] = ticker_lists\n",
        "    result_df['companies'] = company_lists\n",
        "\n",
        "    print(f\"Extraction complete! Found companies in {sum(1 for t in ticker_lists if t)} out of {len(df)} items\")\n",
        "    return result_df\n"
      ]
    },
    {
      "cell_type": "code",
      "source": [
        "sample_data = {\n",
        "    'title': [\n",
        "        'Exxon Mobil Reports Strong Q3 Earnings',\n",
        "        'Tesla Expands Supercharger Network',\n",
        "        'Apple Announces New iPhone'\n",
        "    ],\n",
        "    'summary': [\n",
        "        'Exxon Mobil Corporation exceeded expectations...',\n",
        "        'Tesla Inc. continues infrastructure expansion...',\n",
        "          'Apple Inc. unveiled its latest smartphone...'\n",
        "    ]\n",
        "}\n",
        "\n",
        "df = pd.DataFrame(sample_data)\n",
        "\n",
        "\n",
        "# Load environment variables from .env file\n",
        "load_dotenv()\n",
        "\n",
        "# Extract tickers (API key loaded from environment)\n",
        "API_KEY = os.getenv(\"API_KEY\")\n",
        "result = extract_tickers_from_news(df, API_KEY)\n",
        "\n",
        "\n",
        "# Display results\n",
        "print(\"\\nResults:\")\n",
        "for i, row in result.iterrows():\n",
        "     print(f\"Title: {row['title']}\")\n",
        "     print(f\"Tickers: {row['tickers']}\")\n",
        "     print(f\"Companies: {row['companies']}\")\n",
        "     print(\"-\" * 40)"
      ],
      "metadata": {
        "colab": {
          "base_uri": "https://localhost:8080/"
        },
        "id": "VmBBQ3ChXT5X",
        "outputId": "19254718-56e4-4902-d434-55398f886722"
      },
      "execution_count": null,
      "outputs": [
        {
          "output_type": "stream",
          "name": "stdout",
          "text": [
            "Processing 3 news items...\n",
            "Extraction complete! Found companies in 3 out of 3 items\n",
            "\n",
            "Results:\n",
            "Title: Exxon Mobil Reports Strong Q3 Earnings\n",
            "Tickers: ['XOM']\n",
            "Companies: ['Exxon Mobil Corporation']\n",
            "----------------------------------------\n",
            "Title: Tesla Expands Supercharger Network\n",
            "Tickers: ['TSLA']\n",
            "Companies: ['Tesla Inc.']\n",
            "----------------------------------------\n",
            "Title: Apple Announces New iPhone\n",
            "Tickers: ['AAPL']\n",
            "Companies: ['Apple Inc']\n",
            "----------------------------------------\n"
          ]
        }
      ]
    },
    {
      "cell_type": "code",
      "source": [],
      "metadata": {
        "id": "7gVNQn1JevvL"
      },
      "execution_count": null,
      "outputs": []
    }
  ]
}